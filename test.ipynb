{
 "cells": [
  {
   "cell_type": "code",
   "execution_count": 1,
   "metadata": {},
   "outputs": [],
   "source": [
    "import colormath\n",
    "from colormath.color_objects import *\n",
    "from colormath.color_conversions import convert_color"
   ]
  },
  {
   "cell_type": "code",
   "execution_count": 2,
   "metadata": {},
   "outputs": [
    {
     "data": {
      "text/plain": [
       "(XYZColor(xyz_x=0.07142564450675079,xyz_y=0.025793112402674897,xyz_z=0.0),\n",
       " 'd65')"
      ]
     },
     "execution_count": 2,
     "metadata": {},
     "output_type": "execute_result"
    }
   ],
   "source": [
    "test_color = SpectralColor(spec_830nm=1e6, illuminant='d65')\n",
    "xyz_color = convert_color(test_color, XYZColor)\n",
    "xyz_color, xyz_color.illuminant"
   ]
  },
  {
   "cell_type": "code",
   "execution_count": 3,
   "metadata": {},
   "outputs": [
    {
     "data": {
      "text/plain": [
       "sRGBColor(rgb_r=0.4752215540303309,rgb_g=0.0,rgb_b=0.0)"
      ]
     },
     "execution_count": 3,
     "metadata": {},
     "output_type": "execute_result"
    }
   ],
   "source": [
    "convert_color(xyz_color, sRGBColor)"
   ]
  },
  {
   "cell_type": "code",
   "execution_count": 4,
   "metadata": {},
   "outputs": [
    {
     "data": {
      "text/plain": [
       "XYZColor(xyz_x=0.950467,xyz_y=0.9999995999999999,xyz_z=1.0889693999999999)"
      ]
     },
     "execution_count": 4,
     "metadata": {},
     "output_type": "execute_result"
    }
   ],
   "source": [
    "convert_color(sRGBColor(1, 1, 1), XYZColor)"
   ]
  },
  {
   "cell_type": "code",
   "execution_count": 5,
   "metadata": {},
   "outputs": [
    {
     "data": {
      "text/plain": [
       "XYZColor(xyz_x=0.412424,xyz_y=0.212656,xyz_z=0.0193324)"
      ]
     },
     "execution_count": 5,
     "metadata": {},
     "output_type": "execute_result"
    }
   ],
   "source": [
    "convert_color(sRGBColor(1, 0, 0), XYZColor)"
   ]
  },
  {
   "cell_type": "code",
   "execution_count": 6,
   "metadata": {},
   "outputs": [
    {
     "data": {
      "text/plain": [
       "XYZColor(xyz_x=0.357579,xyz_y=0.715158,xyz_z=0.119193)"
      ]
     },
     "execution_count": 6,
     "metadata": {},
     "output_type": "execute_result"
    }
   ],
   "source": [
    "convert_color(sRGBColor(0, 1, 0), XYZColor)"
   ]
  },
  {
   "cell_type": "code",
   "execution_count": 7,
   "metadata": {},
   "outputs": [
    {
     "data": {
      "text/plain": [
       "XYZColor(xyz_x=0.180464,xyz_y=0.0721856,xyz_z=0.950444)"
      ]
     },
     "execution_count": 7,
     "metadata": {},
     "output_type": "execute_result"
    }
   ],
   "source": [
    "convert_color(sRGBColor(0, 0, 1), XYZColor)"
   ]
  },
  {
   "cell_type": "code",
   "execution_count": 8,
   "metadata": {},
   "outputs": [
    {
     "data": {
      "text/plain": [
       "XYZColor(xyz_x=0.07142564450675079,xyz_y=0.025793112402674897,xyz_z=0.0)"
      ]
     },
     "execution_count": 8,
     "metadata": {},
     "output_type": "execute_result"
    }
   ],
   "source": [
    "test_color = SpectralColor(spec_830nm=1e6, illuminant='d65')\n",
    "convert_color(test_color, XYZColor)"
   ]
  },
  {
   "cell_type": "code",
   "execution_count": 9,
   "metadata": {},
   "outputs": [
    {
     "data": {
      "text/plain": [
       "XYZColor(xyz_x=0.09484964597237197,xyz_y=5.130039991839043,xyz_z=1.613463870196693)"
      ]
     },
     "execution_count": 9,
     "metadata": {},
     "output_type": "execute_result"
    }
   ],
   "source": [
    "test_color = SpectralColor(spec_510nm=1e2, illuminant='d65')\n",
    "convert_color(test_color, XYZColor)"
   ]
  },
  {
   "cell_type": "code",
   "execution_count": 10,
   "metadata": {},
   "outputs": [
    {
     "data": {
      "text/plain": [
       "xyYColor(xyy_x=0.17333686548078087,xyy_y=0.004796743447266891,xyy_Y=3.0985803631056024e-05)"
      ]
     },
     "execution_count": 10,
     "metadata": {},
     "output_type": "execute_result"
    }
   ],
   "source": [
    "test_color = SpectralColor(spec_400nm=1, illuminant='d65')\n",
    "convert_color(test_color, xyYColor)"
   ]
  },
  {
   "cell_type": "code",
   "execution_count": 13,
   "metadata": {},
   "outputs": [
    {
     "data": {
      "text/plain": [
       "xyYColor(xyy_x=0.31271163465853535,xyy_y=0.3290082765355151,xyy_Y=0.9999995999999999)"
      ]
     },
     "execution_count": 13,
     "metadata": {},
     "output_type": "execute_result"
    }
   ],
   "source": [
    "convert_color(sRGBColor(1, 1, 1), xyYColor)"
   ]
  }
 ],
 "metadata": {
  "kernelspec": {
   "display_name": "calc",
   "language": "python",
   "name": "python3"
  },
  "language_info": {
   "codemirror_mode": {
    "name": "ipython",
    "version": 3
   },
   "file_extension": ".py",
   "mimetype": "text/x-python",
   "name": "python",
   "nbconvert_exporter": "python",
   "pygments_lexer": "ipython3",
   "version": "3.9.18"
  }
 },
 "nbformat": 4,
 "nbformat_minor": 2
}
