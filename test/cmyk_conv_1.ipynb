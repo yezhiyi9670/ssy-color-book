{
 "cells": [
  {
   "cell_type": "code",
   "execution_count": 70,
   "metadata": {},
   "outputs": [],
   "source": [
    "from PIL import Image, ImageCms\n",
    "import pydicom\n",
    "import numpy"
   ]
  },
  {
   "cell_type": "code",
   "execution_count": 71,
   "metadata": {},
   "outputs": [],
   "source": [
    "im = Image.new(mode='RGB', size=(1, 1))"
   ]
  },
  {
   "cell_type": "code",
   "execution_count": 72,
   "metadata": {},
   "outputs": [
    {
     "data": {
      "text/plain": [
       "(108, 110, 222)"
      ]
     },
     "execution_count": 72,
     "metadata": {},
     "output_type": "execute_result"
    }
   ],
   "source": [
    "im.putpixel((0, 0), (0x6C, 0x6E, 0xDE))\n",
    "im.getpixel((0, 0))"
   ]
  },
  {
   "cell_type": "code",
   "execution_count": 73,
   "metadata": {},
   "outputs": [],
   "source": [
    "XYZ = '../icc/AdobeRGB1998.icc'\n",
    "JP2001 = '../icc/JapanColor2001Coated.icc'"
   ]
  },
  {
   "cell_type": "code",
   "execution_count": 74,
   "metadata": {},
   "outputs": [],
   "source": [
    "transform1 = ImageCms.buildTransform(XYZ, JP2001, inMode='RGB', outMode='CMYK', renderingIntent=ImageCms.Intent.ABSOLUTE_COLORIMETRIC)\n",
    "transform2 = ImageCms.buildTransform(JP2001, XYZ, inMode='CMYK', outMode='RGB', renderingIntent=ImageCms.Intent.ABSOLUTE_COLORIMETRIC)"
   ]
  },
  {
   "cell_type": "code",
   "execution_count": 75,
   "metadata": {},
   "outputs": [
    {
     "name": "stdout",
     "output_type": "stream",
     "text": [
      "(163, 136, 0, 0)\n",
      "(102, 107, 164)\n"
     ]
    }
   ],
   "source": [
    "new_im = transform1.apply(im)\n",
    "print(new_im.getpixel((0, 0)))\n",
    "new_im = transform2.apply(new_im)\n",
    "print(new_im.getpixel((0, 0)))"
   ]
  }
 ],
 "metadata": {
  "kernelspec": {
   "display_name": "calc",
   "language": "python",
   "name": "python3"
  },
  "language_info": {
   "codemirror_mode": {
    "name": "ipython",
    "version": 3
   },
   "file_extension": ".py",
   "mimetype": "text/x-python",
   "name": "python",
   "nbconvert_exporter": "python",
   "pygments_lexer": "ipython3",
   "version": "3.9.18"
  }
 },
 "nbformat": 4,
 "nbformat_minor": 2
}
